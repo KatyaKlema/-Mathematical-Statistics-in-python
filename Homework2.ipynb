{
 "cells": [
  {
   "cell_type": "code",
   "execution_count": 70,
   "metadata": {},
   "outputs": [],
   "source": [
    "import numpy as np\n",
    "import math\n",
    "import pandas as pd"
   ]
  },
  {
   "cell_type": "markdown",
   "metadata": {},
   "source": [
    "# Task 2\n"
   ]
  },
  {
   "cell_type": "markdown",
   "metadata": {
    "collapsed": true
   },
   "source": [
    "На высоте 1 метр от поверхности Земли закреплено устройство, которое периодически излучает лучи на поверхность Земли (считайте, что поверхность Земли представляет из себя прямую). Пусть $l$ перпендикуляр к поверхности Земли, опущенный из точки, в которой закреплено устройство. Угол к прямой $l$ (под которым происходит излучение) устройство выбирает случайно из равномерного распределения на отрезке $(-\\pi/2, \\pi/2)$ (все выборы осуществляются независимо). В этих предположениях точки пересечения с поверхностью имеют распределение Коши с плотностью $p(x) = \\frac{1}{\\pi(1+(x-x_0)^2)}$. Неизвестный параметр сдвига $x_0$ соответствует проекции точки расположения устройства на поверхность Земли (направление оси и начало координат на поверхности Земли выбраны заранее некоторым образом независимо от расположения устройства). В файле Cauchy.csv находятся координаты точек пересечения лучей с поверхностью Земли. Оцените параметр сдвига методом максимального правдоподобия a) по половине выборки (первые $500$ элементов выборки, т.е. выборка состоит из $1000$ наблюдений); б) по всей выборке. Оценку произведите по сетке (т.е. возьмите набор точек с некоторым шагом и верните ту, на которой достигается максимум функции правдоподобия). Известно, что параметр масштаба принадлежит интервалу $[-1000, 1000]$. Выберите шаг равным $0.01$. Если получается долго или не хватает памяти, то уменьшите интервал поиска и поясните (в комментариях), почему берете именно такой интервал. "
   ]
  },
  {
   "cell_type": "code",
   "execution_count": 71,
   "metadata": {},
   "outputs": [],
   "source": [
    "x = np.arange(-1000, 1000, 10 ** (-2))\n",
    "data_csv = np.array(pd.read_csv(\"Cauchy.csv\"))"
   ]
  },
  {
   "cell_type": "code",
   "execution_count": 72,
   "metadata": {},
   "outputs": [
    {
     "data": {
      "text/plain": [
       "662.0399999984884"
      ]
     },
     "execution_count": 72,
     "metadata": {},
     "output_type": "execute_result"
    }
   ],
   "source": [
    "#------------------ case a ------------------\n",
    "f_lst = [] #< массив, который соответствует логарифмической функции правдоподобия\n",
    "data = data_csv[:500] #<(первые 500 элементов выборки)\n",
    "for item in x: #< заполняем этот массив, учитыва, что мы берем половину выборки \n",
    "    p = 1 / (np.pi * (1 + (data - item) ** 2)) \n",
    "    f_lst.append(np.sum(np.log(p)))\n",
    "\n",
    "ans = x[np.argmax(f_lst)]#< найдем максимум логарифмической функции правдоподобия\n",
    "ans"
   ]
  },
  {
   "cell_type": "code",
   "execution_count": 73,
   "metadata": {},
   "outputs": [
    {
     "data": {
      "text/plain": [
       "662.0499999984884"
      ]
     },
     "execution_count": 73,
     "metadata": {},
     "output_type": "execute_result"
    }
   ],
   "source": [
    "#------------------- case b -----------------_\n",
    "f_lst = [] #< массив, который соответствует логарифмической функции правдоподобия\n",
    "for item in x:#< заполняем этот массив, учитывая, что мы берем всю выборку\n",
    "    p = 1 / (np.pi * (1 + (data_csv - item) ** 2))\n",
    "    f_lst.append(np.sum(np.log(p)))\n",
    "ans = x[np.argmax(f_lst)] # параметр сдвига\n",
    "ans"
   ]
  },
  {
   "cell_type": "markdown",
   "metadata": {},
   "source": [
    "Вывод: видим, что параметр сдвига в случае, когда рассматривалась половина выборки, почти равен параметру сдвига в случае, когда рассматривалась вся выборка, но все равно они различны.\n"
   ]
  },
  {
   "cell_type": "markdown",
   "metadata": {},
   "source": [
    "# Task 3"
   ]
  },
  {
   "cell_type": "markdown",
   "metadata": {},
   "source": [
    "В банке каждую минуту подсчитывается баланс по\n",
    "сравнению с началом дня (6 часов утра). В полночь работники банка\n",
    "измеряют две величины: $X^1$ - максимальное значение баланса за\n",
    "день, $X^2$ - значение баланса в полночь. Считается, что величина\n",
    "$X = X^1 - X^2$ имеет распределение Вейбулла с функцией распределения $F(x) = 1 - e^{-x^\\gamma} (x > 0),$ где $\\gamma > 0$ -\n",
    "параметр формы. В течение 10 лет каждый день банк проводил\n",
    "измерение величины $X,$ получив в результате выборку $X_1, \\ldots,\n",
    "X_{3652}.$ В файле Weibull.csv находятся соответствующие измерения.\n",
    "Оцените параметр формы методом максимального правдоподобия a) по\n",
    "первым 4 годам; б) по всей выборке. Оценку произведите по сетке (в\n",
    "логарифмической шкале). Известно, что $\\log_{10}\\gamma \\in [-2, 2].$\n",
    "Выберите шаг равным $10^{-3}.$"
   ]
  },
  {
   "cell_type": "code",
   "execution_count": 76,
   "metadata": {
    "collapsed": true
   },
   "outputs": [],
   "source": [
    "x = np.arange(0.01, 100, 10 ** (-3))\n",
    "data_csv = np.array(pd.read_csv(\"Weibull.csv\"))\n",
    "data_csv = data_csv + 10 ** (-9) #чтобы нулевые элементы сделать ненулевыми"
   ]
  },
  {
   "cell_type": "code",
   "execution_count": 77,
   "metadata": {},
   "outputs": [
    {
     "name": "stderr",
     "output_type": "stream",
     "text": [
      "/Users/ekaterina/anaconda3/lib/python3.6/site-packages/ipykernel_launcher.py:5: RuntimeWarning: overflow encountered in exp\n",
      "  \"\"\"\n",
      "/Users/ekaterina/anaconda3/lib/python3.6/site-packages/ipykernel_launcher.py:6: RuntimeWarning: divide by zero encountered in log\n",
      "  \n"
     ]
    },
    {
     "data": {
      "text/plain": [
       "0.2529999999999998"
      ]
     },
     "execution_count": 77,
     "metadata": {},
     "output_type": "execute_result"
    }
   ],
   "source": [
    "#------------------ case a ---------------------\n",
    "data = data_csv[:1462]#< Оценим параметр формы по первым 4 годам\n",
    "f_lst = [] #< массив, который соответствует логарифмической функции правдоподобия\n",
    "for item in x:\n",
    "    p = (item * (data ** (item - 1))) / (np.exp(data ** item))\n",
    "    f_lst.append(np.sum(np.log(p)))\n",
    "ans = x[np.argmax(f_lst)] #< параметр формы\n",
    "ans"
   ]
  },
  {
   "cell_type": "code",
   "execution_count": 78,
   "metadata": {},
   "outputs": [
    {
     "name": "stderr",
     "output_type": "stream",
     "text": [
      "/Users/ekaterina/anaconda3/lib/python3.6/site-packages/ipykernel_launcher.py:5: RuntimeWarning: overflow encountered in exp\n",
      "  \"\"\"\n",
      "/Users/ekaterina/anaconda3/lib/python3.6/site-packages/ipykernel_launcher.py:6: RuntimeWarning: divide by zero encountered in log\n",
      "  \n"
     ]
    },
    {
     "data": {
      "text/plain": [
       "0.2489999999999998"
      ]
     },
     "execution_count": 78,
     "metadata": {},
     "output_type": "execute_result"
    }
   ],
   "source": [
    "#------------------ case b -----------------------\n",
    "#Оценим параметр формы по все выборке\n",
    "f_lst = [] #< массив, который соответствует логарифмической функции правдоподобия\n",
    "for item in x:\n",
    "    p = (item * (data_csv ** (item - 1))) / (np.exp(data_csv ** item))\n",
    "    f_lst.append(np.sum(np.log(p)))\n",
    "ans = x[np.argmax(f_lst)] #< параметр формы\n",
    "ans"
   ]
  },
  {
   "cell_type": "markdown",
   "metadata": {},
   "source": [
    "Вывод: видим, что параметр формы, оцененный по первым четырем годам, практически равен параметру формы, оцененному по всей выборке, но две оценки все равно различные\n"
   ]
  },
  {
   "cell_type": "code",
   "execution_count": null,
   "metadata": {
    "collapsed": true
   },
   "outputs": [],
   "source": []
  }
 ],
 "metadata": {
  "kernelspec": {
   "display_name": "Python 3",
   "language": "python",
   "name": "python3"
  },
  "language_info": {
   "codemirror_mode": {
    "name": "ipython",
    "version": 3
   },
   "file_extension": ".py",
   "mimetype": "text/x-python",
   "name": "python",
   "nbconvert_exporter": "python",
   "pygments_lexer": "ipython3",
   "version": "3.6.8"
  }
 },
 "nbformat": 4,
 "nbformat_minor": 2
}
